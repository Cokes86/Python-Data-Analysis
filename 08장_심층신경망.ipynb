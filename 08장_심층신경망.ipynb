{
  "nbformat": 4,
  "nbformat_minor": 0,
  "metadata": {
    "colab": {
      "provenance": [],
      "mount_file_id": "1kmBxCJp5EF3PmDY_gbs5jnP2de49pJ93",
      "authorship_tag": "ABX9TyMaBnTPiRPdBvCMQN9qYi1D",
      "include_colab_link": true
    },
    "kernelspec": {
      "name": "python3",
      "display_name": "Python 3"
    },
    "language_info": {
      "name": "python"
    }
  },
  "cells": [
    {
      "cell_type": "markdown",
      "metadata": {
        "id": "view-in-github",
        "colab_type": "text"
      },
      "source": [
        "<a href=\"https://colab.research.google.com/github/Cokes86/Python-Data-Analysis/blob/main/08%EC%9E%A5_%EC%8B%AC%EC%B8%B5%EC%8B%A0%EA%B2%BD%EB%A7%9D.ipynb\" target=\"_parent\"><img src=\"https://colab.research.google.com/assets/colab-badge.svg\" alt=\"Open In Colab\"/></a>"
      ]
    },
    {
      "cell_type": "code",
      "source": [
        "#BinaryCrossentropy\n",
        "import tensorflow as tf\n",
        "import numpy as np\n",
        "\n",
        "y_true = np.array([[1],[0],[0],[1]])\n",
        "y_pred = np.array([[0.8],[0.3],[0.5],[0.9]])\n",
        "bce = tf.keras.losses.BinaryCrossentropy()\n",
        "bce(y_true, y_pred).numpy()"
      ],
      "metadata": {
        "colab": {
          "base_uri": "https://localhost:8080/"
        },
        "id": "t7tcsowgeY8l",
        "outputId": "a905878f-7b01-483c-ae4c-0945f3553a14"
      },
      "execution_count": null,
      "outputs": [
        {
          "output_type": "execute_result",
          "data": {
            "text/plain": [
              "0.34458154"
            ]
          },
          "metadata": {},
          "execution_count": 15
        }
      ]
    },
    {
      "cell_type": "code",
      "source": [
        "#CategoricalCrossentropy\n",
        "\n",
        "y_true = np.array([[0.0,1.0,0.0],[0.0,0.0,1.0],[1.0,0.0,0.0]])\n",
        "y_pred = np.array([[0.6,0.3,0.1],[0.3,0.6,0.1],[0.1,0.7,0.2]])\n",
        "cce = tf.keras.losses.CategoricalCrossentropy()\n",
        "cce(y_true, y_pred).numpy()"
      ],
      "metadata": {
        "colab": {
          "base_uri": "https://localhost:8080/"
        },
        "id": "HyYHDxUVgF4_",
        "outputId": "55234620-35c4-402d-c6c8-148aa534ddaf"
      },
      "execution_count": null,
      "outputs": [
        {
          "output_type": "execute_result",
          "data": {
            "text/plain": [
              "1.936381"
            ]
          },
          "metadata": {},
          "execution_count": 16
        }
      ]
    },
    {
      "cell_type": "code",
      "source": [
        "#SparseCategoricalCrossentropy\n",
        "\n",
        "y_true = np.array([1,2,0])\n",
        "y_pred = np.array([[0.6,0.3,0.1],[0.3,0.6,0.1],[0.1,0.7,0.2]])\n",
        "scce = tf.keras.losses.SparseCategoricalCrossentropy()\n",
        "scce(y_true, y_pred).numpy()"
      ],
      "metadata": {
        "colab": {
          "base_uri": "https://localhost:8080/"
        },
        "id": "mKs99lUngbO3",
        "outputId": "163403c6-8fad-4348-a074-a1e94c260943"
      },
      "execution_count": null,
      "outputs": [
        {
          "output_type": "execute_result",
          "data": {
            "text/plain": [
              "1.936381"
            ]
          },
          "metadata": {},
          "execution_count": 18
        }
      ]
    },
    {
      "cell_type": "code",
      "source": [
        "#정수 인코더\n",
        "X = np.array([\n",
        "    ['Korea', 44, 7200],\n",
        "    ['Japan', 27, 4800],\n",
        "    ['China', 30, 6100]\n",
        "])\n",
        "\n",
        "from sklearn.preprocessing import LabelEncoder\n",
        "label_encoder = LabelEncoder()\n",
        "X[:,0] = label_encoder.fit_transform(X[:,0])\n",
        "print(X)"
      ],
      "metadata": {
        "colab": {
          "base_uri": "https://localhost:8080/"
        },
        "id": "UHzTMdxmksbf",
        "outputId": "537db36e-3fab-4aad-8612-80d12895f413"
      },
      "execution_count": null,
      "outputs": [
        {
          "output_type": "stream",
          "name": "stdout",
          "text": [
            "[['2' '44' '7200']\n",
            " ['1' '27' '4800']\n",
            " ['0' '30' '6100']]\n"
          ]
        }
      ]
    },
    {
      "cell_type": "code",
      "source": [
        "#원핫 인코더\n",
        "X = np.array([\n",
        "    ['Korea', 44, 7200],\n",
        "    ['Japan', 27, 4800],\n",
        "    ['China', 30, 6100]\n",
        "])\n",
        "\n",
        "from sklearn.preprocessing import OneHotEncoder\n",
        "onehot_encoder = OneHotEncoder()\n",
        "XX = onehot_encoder.fit_transform(X[:,0].reshape(-1,1)).toarray()\n",
        "print(XX)\n",
        "\n",
        "X = np.concatenate([XX, X[:,1:]], axis=1)\n",
        "print(X)"
      ],
      "metadata": {
        "colab": {
          "base_uri": "https://localhost:8080/"
        },
        "id": "udCaYQu_lJXR",
        "outputId": "4418158d-b26f-42c0-bf2d-c48e8c808160"
      },
      "execution_count": null,
      "outputs": [
        {
          "output_type": "stream",
          "name": "stdout",
          "text": [
            "[[0. 0. 1.]\n",
            " [0. 1. 0.]\n",
            " [1. 0. 0.]]\n",
            "[['0.0' '0.0' '1.0' '44' '7200']\n",
            " ['0.0' '1.0' '0.0' '27' '4800']\n",
            " ['1.0' '0.0' '0.0' '30' '6100']]\n"
          ]
        }
      ]
    },
    {
      "cell_type": "code",
      "source": [
        "#응 사실 케라스에도 있어.\n",
        "class_vector = [2,6,6,1]\n",
        "\n",
        "from tensorflow.keras.utils import to_categorical\n",
        "print(to_categorical(class_vector, num_classes=7))"
      ],
      "metadata": {
        "colab": {
          "base_uri": "https://localhost:8080/"
        },
        "id": "BvQAfb2_lgNG",
        "outputId": "bb62a977-dfee-4b3f-a6e0-4ae510e00a7e"
      },
      "execution_count": null,
      "outputs": [
        {
          "output_type": "stream",
          "name": "stdout",
          "text": [
            "[[0. 0. 1. 0. 0. 0. 0.]\n",
            " [0. 0. 0. 0. 0. 0. 1.]\n",
            " [0. 0. 0. 0. 0. 0. 1.]\n",
            " [0. 1. 0. 0. 0. 0. 0.]]\n"
          ]
        }
      ]
    },
    {
      "cell_type": "code",
      "source": [
        "from sklearn.preprocessing import MinMaxScaler\n",
        "data = [[-1,2],[-0.5,6],[0,10],[1,18]]\n",
        "scaler = MinMaxScaler()\n",
        "print(scaler.fit_transform(data))"
      ],
      "metadata": {
        "colab": {
          "base_uri": "https://localhost:8080/"
        },
        "id": "aKqpS5W9uesU",
        "outputId": "cd430bcb-aaaf-4b1c-d94d-d84f96058821"
      },
      "execution_count": null,
      "outputs": [
        {
          "output_type": "stream",
          "name": "stdout",
          "text": [
            "[[0.   0.  ]\n",
            " [0.25 0.25]\n",
            " [0.5  0.5 ]\n",
            " [1.   1.  ]]\n"
          ]
        }
      ]
    },
    {
      "cell_type": "code",
      "source": [
        "from tensorflow.keras.layers import Normalization\n",
        "import numpy as np\n",
        "\n",
        "adapt_data = np.array([[1.],[2.],[3.],[4.],[5.]])\n",
        "input_data = np.array([[1.],[2.],[3.]])\n",
        "layer = Normalization()\n",
        "layer.adapt(adapt_data)\n",
        "normalized_data = layer(input_data)\n",
        "print(normalized_data)"
      ],
      "metadata": {
        "colab": {
          "base_uri": "https://localhost:8080/"
        },
        "id": "cpdxr27Jupf0",
        "outputId": "b6c201b6-f89e-4ad9-b069-bfb302ff1142"
      },
      "execution_count": null,
      "outputs": [
        {
          "output_type": "stream",
          "name": "stdout",
          "text": [
            "tf.Tensor(\n",
            "[[-1.4142135 ]\n",
            " [-0.70710677]\n",
            " [ 0.        ]], shape=(3, 1), dtype=float32)\n"
          ]
        }
      ]
    },
    {
      "cell_type": "code",
      "source": [
        "#과잉적합 우와아앙?!\n",
        "import numpy as np\n",
        "import tensorflow as tf\n",
        "import matplotlib.pyplot as plt\n",
        "\n",
        "(train_data, train_labels), (test_data, test_labels) = tf.keras.datasets.imdb.load_data(num_words=1000)\n",
        "\n",
        "def one_hot_sequences(sequences, dimension=1000):\n",
        "    results = np.zeros((len(sequences), dimension))\n",
        "    for i, sequence in enumerate(sequences):\n",
        "        results[i, sequence] = 1.\n",
        "    return results\n",
        "\n",
        "train_data = one_hot_sequences(train_data)\n",
        "test_data = one_hot_sequences(test_data)\n",
        "\n",
        "model = tf.keras.Sequential([\n",
        "    tf.keras.layers.Dense(16, activation='relu'),\n",
        "    tf.keras.layers.Dense(16, activation='relu'),\n",
        "    tf.keras.layers.Dense(1, activation='sigmoid')\n",
        "])\n",
        "\n",
        "model.compile(optimizer='adam', loss='binary_crossentropy', metrics=['accuracy'])\n",
        "history = model.fit(train_data, train_labels, epochs=20, batch_size=512, validation_data=(test_data, test_labels), verbose = 2)\n",
        "\n",
        "history_dict = history.history\n",
        "loss = history_dict['loss']\n",
        "val_loss = history_dict['val_loss']\n",
        "\n",
        "plt.plot(loss, label='Training loss')\n",
        "plt.plot(val_loss, label='Validation loss')\n",
        "plt.title('Training and validation loss')\n",
        "plt.xlabel('Epochs')\n",
        "plt.show()"
      ],
      "metadata": {
        "colab": {
          "base_uri": "https://localhost:8080/",
          "height": 1000
        },
        "id": "yLVVYvqfRTka",
        "outputId": "ecf7dc10-1e30-47e1-bcd3-cc1bdde094b2"
      },
      "execution_count": null,
      "outputs": [
        {
          "output_type": "stream",
          "name": "stdout",
          "text": [
            "Epoch 1/20\n",
            "49/49 - 2s - 46ms/step - accuracy: 0.7200 - loss: 0.5751 - val_accuracy: 0.8160 - val_loss: 0.4397\n",
            "Epoch 2/20\n",
            "49/49 - 0s - 7ms/step - accuracy: 0.8449 - loss: 0.3734 - val_accuracy: 0.8517 - val_loss: 0.3510\n",
            "Epoch 3/20\n",
            "49/49 - 1s - 14ms/step - accuracy: 0.8664 - loss: 0.3235 - val_accuracy: 0.8604 - val_loss: 0.3314\n",
            "Epoch 4/20\n",
            "49/49 - 1s - 12ms/step - accuracy: 0.8722 - loss: 0.3088 - val_accuracy: 0.8587 - val_loss: 0.3302\n",
            "Epoch 5/20\n",
            "49/49 - 1s - 12ms/step - accuracy: 0.8738 - loss: 0.3043 - val_accuracy: 0.8595 - val_loss: 0.3276\n",
            "Epoch 6/20\n",
            "49/49 - 1s - 17ms/step - accuracy: 0.8743 - loss: 0.3002 - val_accuracy: 0.8602 - val_loss: 0.3274\n",
            "Epoch 7/20\n",
            "49/49 - 0s - 9ms/step - accuracy: 0.8774 - loss: 0.2961 - val_accuracy: 0.8594 - val_loss: 0.3290\n",
            "Epoch 8/20\n",
            "49/49 - 1s - 13ms/step - accuracy: 0.8767 - loss: 0.2955 - val_accuracy: 0.8596 - val_loss: 0.3283\n",
            "Epoch 9/20\n",
            "49/49 - 0s - 9ms/step - accuracy: 0.8806 - loss: 0.2904 - val_accuracy: 0.8592 - val_loss: 0.3277\n",
            "Epoch 10/20\n",
            "49/49 - 1s - 19ms/step - accuracy: 0.8808 - loss: 0.2888 - val_accuracy: 0.8592 - val_loss: 0.3279\n",
            "Epoch 11/20\n",
            "49/49 - 1s - 26ms/step - accuracy: 0.8824 - loss: 0.2842 - val_accuracy: 0.8587 - val_loss: 0.3282\n",
            "Epoch 12/20\n",
            "49/49 - 1s - 16ms/step - accuracy: 0.8829 - loss: 0.2808 - val_accuracy: 0.8602 - val_loss: 0.3283\n",
            "Epoch 13/20\n",
            "49/49 - 0s - 9ms/step - accuracy: 0.8834 - loss: 0.2766 - val_accuracy: 0.8584 - val_loss: 0.3300\n",
            "Epoch 14/20\n",
            "49/49 - 1s - 12ms/step - accuracy: 0.8862 - loss: 0.2722 - val_accuracy: 0.8576 - val_loss: 0.3300\n",
            "Epoch 15/20\n",
            "49/49 - 1s - 11ms/step - accuracy: 0.8908 - loss: 0.2650 - val_accuracy: 0.8579 - val_loss: 0.3322\n",
            "Epoch 16/20\n",
            "49/49 - 1s - 13ms/step - accuracy: 0.8935 - loss: 0.2594 - val_accuracy: 0.8560 - val_loss: 0.3340\n",
            "Epoch 17/20\n",
            "49/49 - 1s - 13ms/step - accuracy: 0.8959 - loss: 0.2541 - val_accuracy: 0.8556 - val_loss: 0.3375\n",
            "Epoch 18/20\n",
            "49/49 - 1s - 11ms/step - accuracy: 0.8998 - loss: 0.2483 - val_accuracy: 0.8558 - val_loss: 0.3407\n",
            "Epoch 19/20\n",
            "49/49 - 1s - 13ms/step - accuracy: 0.9014 - loss: 0.2429 - val_accuracy: 0.8557 - val_loss: 0.3434\n",
            "Epoch 20/20\n",
            "49/49 - 1s - 14ms/step - accuracy: 0.9031 - loss: 0.2367 - val_accuracy: 0.8540 - val_loss: 0.3492\n"
          ]
        },
        {
          "output_type": "display_data",
          "data": {
            "text/plain": [
              "<Figure size 640x480 with 1 Axes>"
            ],
            "image/png": "[encoded data removed]"
          },
          "metadata": {}
        }
      ]
    },
    {
      "cell_type": "code",
      "source": [
        "#과잉적합 해소방법1: 규제항 만들기\n",
        "model = tf.keras.Sequential([\n",
        "    tf.keras.layers.Dense(16, kernel_regularizer=tf.keras.regularizers.l2(0.001), activation='relu'),\n",
        "    tf.keras.layers.Dense(16, kernel_regularizer=tf.keras.regularizers.l2(0.001), activation='relu'),\n",
        "    tf.keras.layers.Dense(1, activation='sigmoid')\n",
        "])\n",
        "\n",
        "model.compile(optimizer='adam', loss='binary_crossentropy', metrics=['accuracy'])\n",
        "history = model.fit(train_data, train_labels, epochs=20, batch_size=512, validation_data=(test_data, test_labels), verbose = 2)\n",
        "\n",
        "history_dict = history.history\n",
        "loss = history_dict['loss']\n",
        "val_loss = history_dict['val_loss']\n",
        "\n",
        "plt.plot(loss, label='Training loss')\n",
        "plt.plot(val_loss, label='Validation loss')\n",
        "plt.title('Training and validation loss')\n",
        "plt.xlabel('Epochs')\n",
        "plt.show()"
      ],
      "metadata": {
        "colab": {
          "base_uri": "https://localhost:8080/",
          "height": 1000
        },
        "id": "xO5exSFYVuFW",
        "outputId": "ff3e82d9-0862-44b2-bb8d-edba34947030"
      },
      "execution_count": null,
      "outputs": [
        {
          "output_type": "stream",
          "name": "stdout",
          "text": [
            "Epoch 1/20\n",
            "49/49 - 5s - 106ms/step - accuracy: 0.7117 - loss: 0.6207 - val_accuracy: 0.8202 - val_loss: 0.4818\n",
            "Epoch 2/20\n",
            "49/49 - 1s - 15ms/step - accuracy: 0.8440 - loss: 0.4185 - val_accuracy: 0.8532 - val_loss: 0.3872\n",
            "Epoch 3/20\n",
            "49/49 - 1s - 13ms/step - accuracy: 0.8667 - loss: 0.3634 - val_accuracy: 0.8590 - val_loss: 0.3691\n",
            "Epoch 4/20\n",
            "49/49 - 0s - 9ms/step - accuracy: 0.8714 - loss: 0.3477 - val_accuracy: 0.8598 - val_loss: 0.3635\n",
            "Epoch 5/20\n",
            "49/49 - 0s - 8ms/step - accuracy: 0.8757 - loss: 0.3391 - val_accuracy: 0.8596 - val_loss: 0.3613\n",
            "Epoch 6/20\n",
            "49/49 - 1s - 13ms/step - accuracy: 0.8743 - loss: 0.3366 - val_accuracy: 0.8600 - val_loss: 0.3595\n",
            "Epoch 7/20\n",
            "49/49 - 0s - 9ms/step - accuracy: 0.8764 - loss: 0.3329 - val_accuracy: 0.8574 - val_loss: 0.3672\n",
            "Epoch 8/20\n",
            "49/49 - 1s - 12ms/step - accuracy: 0.8774 - loss: 0.3309 - val_accuracy: 0.8593 - val_loss: 0.3580\n",
            "Epoch 9/20\n",
            "49/49 - 1s - 12ms/step - accuracy: 0.8774 - loss: 0.3275 - val_accuracy: 0.8596 - val_loss: 0.3590\n",
            "Epoch 10/20\n",
            "49/49 - 1s - 13ms/step - accuracy: 0.8781 - loss: 0.3239 - val_accuracy: 0.8611 - val_loss: 0.3540\n",
            "Epoch 11/20\n",
            "49/49 - 1s - 13ms/step - accuracy: 0.8808 - loss: 0.3201 - val_accuracy: 0.8609 - val_loss: 0.3540\n",
            "Epoch 12/20\n",
            "49/49 - 1s - 13ms/step - accuracy: 0.8817 - loss: 0.3164 - val_accuracy: 0.8616 - val_loss: 0.3567\n",
            "Epoch 13/20\n",
            "49/49 - 1s - 13ms/step - accuracy: 0.8840 - loss: 0.3119 - val_accuracy: 0.8610 - val_loss: 0.3540\n",
            "Epoch 14/20\n",
            "49/49 - 1s - 12ms/step - accuracy: 0.8866 - loss: 0.3075 - val_accuracy: 0.8621 - val_loss: 0.3559\n",
            "Epoch 15/20\n",
            "49/49 - 1s - 13ms/step - accuracy: 0.8872 - loss: 0.3024 - val_accuracy: 0.8591 - val_loss: 0.3573\n",
            "Epoch 16/20\n",
            "49/49 - 1s - 18ms/step - accuracy: 0.8881 - loss: 0.3004 - val_accuracy: 0.8610 - val_loss: 0.3603\n",
            "Epoch 17/20\n",
            "49/49 - 1s - 27ms/step - accuracy: 0.8917 - loss: 0.2944 - val_accuracy: 0.8602 - val_loss: 0.3610\n",
            "Epoch 18/20\n",
            "49/49 - 1s - 20ms/step - accuracy: 0.8943 - loss: 0.2912 - val_accuracy: 0.8563 - val_loss: 0.3653\n",
            "Epoch 19/20\n",
            "49/49 - 1s - 13ms/step - accuracy: 0.8984 - loss: 0.2856 - val_accuracy: 0.8572 - val_loss: 0.3679\n",
            "Epoch 20/20\n",
            "49/49 - 1s - 13ms/step - accuracy: 0.8968 - loss: 0.2824 - val_accuracy: 0.8563 - val_loss: 0.3712\n"
          ]
        },
        {
          "output_type": "display_data",
          "data": {
            "text/plain": [
              "<Figure size 640x480 with 1 Axes>"
            ],
            "image/png": "[encoded data removed]"
          },
          "metadata": {}
        }
      ]
    },
    {
      "cell_type": "code",
      "source": [
        "#드롭아웃\n",
        "model = tf.keras.Sequential([\n",
        "    tf.keras.layers.Dense(16, activation='relu'),\n",
        "    tf.keras.layers.Dropout(0.5),\n",
        "    tf.keras.layers.Dense(16, activation='relu'),\n",
        "    tf.keras.layers.Dropout(0.5),\n",
        "    tf.keras.layers.Dense(1, activation='sigmoid')\n",
        "])\n",
        "\n",
        "model.compile(optimizer='adam', loss='binary_crossentropy', metrics=['accuracy'])\n",
        "history = model.fit(train_data, train_labels, epochs=20, batch_size=512, validation_data=(test_data, test_labels), verbose = 2)\n",
        "\n",
        "history_dict = history.history\n",
        "loss = history_dict['loss']\n",
        "val_loss = history_dict['val_loss']\n",
        "\n",
        "plt.plot(loss, label='Training loss')\n",
        "plt.plot(val_loss, label='Validation loss')\n",
        "plt.title('Training and validation loss')\n",
        "plt.xlabel('Epochs')\n",
        "plt.show()"
      ],
      "metadata": {
        "colab": {
          "base_uri": "https://localhost:8080/",
          "height": 1000
        },
        "id": "RBW_lHjEWVol",
        "outputId": "58857fee-c962-46b2-c0df-f2327ba7ba4b"
      },
      "execution_count": null,
      "outputs": [
        {
          "output_type": "stream",
          "name": "stdout",
          "text": [
            "Epoch 1/20\n",
            "49/49 - 3s - 62ms/step - accuracy: 0.5462 - loss: 0.6866 - val_accuracy: 0.6958 - val_loss: 0.6517\n",
            "Epoch 2/20\n",
            "49/49 - 1s - 18ms/step - accuracy: 0.6614 - loss: 0.6148 - val_accuracy: 0.8120 - val_loss: 0.4947\n",
            "Epoch 3/20\n",
            "49/49 - 1s - 12ms/step - accuracy: 0.7629 - loss: 0.5122 - val_accuracy: 0.8417 - val_loss: 0.4009\n",
            "Epoch 4/20\n",
            "49/49 - 1s - 18ms/step - accuracy: 0.8084 - loss: 0.4446 - val_accuracy: 0.8517 - val_loss: 0.3596\n",
            "Epoch 5/20\n",
            "49/49 - 1s - 27ms/step - accuracy: 0.8321 - loss: 0.4100 - val_accuracy: 0.8557 - val_loss: 0.3399\n",
            "Epoch 6/20\n",
            "49/49 - 1s - 15ms/step - accuracy: 0.8452 - loss: 0.3847 - val_accuracy: 0.8573 - val_loss: 0.3363\n",
            "Epoch 7/20\n",
            "49/49 - 0s - 9ms/step - accuracy: 0.8495 - loss: 0.3705 - val_accuracy: 0.8591 - val_loss: 0.3262\n",
            "Epoch 8/20\n",
            "49/49 - 1s - 12ms/step - accuracy: 0.8568 - loss: 0.3624 - val_accuracy: 0.8595 - val_loss: 0.3264\n",
            "Epoch 9/20\n",
            "49/49 - 1s - 13ms/step - accuracy: 0.8640 - loss: 0.3456 - val_accuracy: 0.8604 - val_loss: 0.3251\n",
            "Epoch 10/20\n",
            "49/49 - 1s - 13ms/step - accuracy: 0.8655 - loss: 0.3454 - val_accuracy: 0.8587 - val_loss: 0.3233\n",
            "Epoch 11/20\n",
            "49/49 - 1s - 12ms/step - accuracy: 0.8692 - loss: 0.3346 - val_accuracy: 0.8604 - val_loss: 0.3248\n",
            "Epoch 12/20\n",
            "49/49 - 1s - 12ms/step - accuracy: 0.8704 - loss: 0.3291 - val_accuracy: 0.8587 - val_loss: 0.3242\n",
            "Epoch 13/20\n",
            "49/49 - 0s - 8ms/step - accuracy: 0.8737 - loss: 0.3295 - val_accuracy: 0.8584 - val_loss: 0.3262\n",
            "Epoch 14/20\n",
            "49/49 - 1s - 13ms/step - accuracy: 0.8766 - loss: 0.3202 - val_accuracy: 0.8580 - val_loss: 0.3276\n",
            "Epoch 15/20\n",
            "49/49 - 0s - 9ms/step - accuracy: 0.8791 - loss: 0.3191 - val_accuracy: 0.8581 - val_loss: 0.3278\n",
            "Epoch 16/20\n",
            "49/49 - 1s - 13ms/step - accuracy: 0.8809 - loss: 0.3107 - val_accuracy: 0.8586 - val_loss: 0.3306\n",
            "Epoch 17/20\n",
            "49/49 - 0s - 10ms/step - accuracy: 0.8832 - loss: 0.3055 - val_accuracy: 0.8577 - val_loss: 0.3336\n",
            "Epoch 18/20\n",
            "49/49 - 1s - 12ms/step - accuracy: 0.8831 - loss: 0.3071 - val_accuracy: 0.8574 - val_loss: 0.3358\n",
            "Epoch 19/20\n",
            "49/49 - 0s - 9ms/step - accuracy: 0.8832 - loss: 0.3044 - val_accuracy: 0.8562 - val_loss: 0.3346\n",
            "Epoch 20/20\n",
            "49/49 - 1s - 13ms/step - accuracy: 0.8874 - loss: 0.2967 - val_accuracy: 0.8573 - val_loss: 0.3398\n"
          ]
        },
        {
          "output_type": "display_data",
          "data": {
            "text/plain": [
              "<Figure size 640x480 with 1 Axes>"
            ],
            "image/png": "[encoded data removed]"
          },
          "metadata": {}
        }
      ]
    },
    {
      "cell_type": "code",
      "source": [
        "train_data.shape"
      ],
      "metadata": {
        "colab": {
          "base_uri": "https://localhost:8080/"
        },
        "id": "Lb-29DcXfMnE",
        "outputId": "32e7689b-9be5-4cfe-8091-98e130f9cfd3"
      },
      "execution_count": null,
      "outputs": [
        {
          "output_type": "execute_result",
          "data": {
            "text/plain": [
              "(25000, 1000)"
            ]
          },
          "metadata": {},
          "execution_count": 12
        }
      ]
    },
    {
      "cell_type": "code",
      "source": [
        "#와 MNIST!\n",
        "import numpy as np\n",
        "import tensorflow as tf\n",
        "import matplotlib.pyplot as plt\n",
        "\n",
        "mnist = tf.keras.datasets.mnist\n",
        "(train_data, train_labels), (test_data, test_labels) = mnist.load_data()\n",
        "train_data, test_data = train_data / 255.0, test_data / 255.0\n",
        "\n",
        "model = tf.keras.Sequential([\n",
        "    tf.keras.layers.Flatten(input_shape=(28,28)),\n",
        "    tf.keras.layers.Dense(512, activation='relu'),\n",
        "    tf.keras.layers.Dropout(0.2),\n",
        "    tf.keras.layers.Dense(10, activation='softmax')\n",
        "])\n",
        "\n",
        "model.compile(optimizer='adam', loss='sparse_categorical_crossentropy', metrics=['accuracy'])\n",
        "model.fit(train_data, train_labels, epochs=5)\n",
        "model.evaluate(test_data, test_labels)"
      ],
      "metadata": {
        "colab": {
          "base_uri": "https://localhost:8080/"
        },
        "id": "xVtL50MXiA71",
        "outputId": "4d1ce586-8427-42cf-d1f7-8ef5a3e36d94"
      },
      "execution_count": null,
      "outputs": [
        {
          "output_type": "stream",
          "name": "stdout",
          "text": [
            "Epoch 1/5\n",
            "\u001b[1m1875/1875\u001b[0m \u001b[32m━━━━━━━━━━━━━━━━━━━━\u001b[0m\u001b[37m\u001b[0m \u001b[1m19s\u001b[0m 10ms/step - accuracy: 0.8952 - loss: 0.3549\n",
            "Epoch 2/5\n",
            "\u001b[1m1875/1875\u001b[0m \u001b[32m━━━━━━━━━━━━━━━━━━━━\u001b[0m\u001b[37m\u001b[0m \u001b[1m19s\u001b[0m 9ms/step - accuracy: 0.9706 - loss: 0.0991\n",
            "Epoch 3/5\n",
            "\u001b[1m1875/1875\u001b[0m \u001b[32m━━━━━━━━━━━━━━━━━━━━\u001b[0m\u001b[37m\u001b[0m \u001b[1m16s\u001b[0m 9ms/step - accuracy: 0.9785 - loss: 0.0687\n",
            "Epoch 4/5\n",
            "\u001b[1m1875/1875\u001b[0m \u001b[32m━━━━━━━━━━━━━━━━━━━━\u001b[0m\u001b[37m\u001b[0m \u001b[1m21s\u001b[0m 9ms/step - accuracy: 0.9849 - loss: 0.0502\n",
            "Epoch 5/5\n",
            "\u001b[1m1875/1875\u001b[0m \u001b[32m━━━━━━━━━━━━━━━━━━━━\u001b[0m\u001b[37m\u001b[0m \u001b[1m17s\u001b[0m 9ms/step - accuracy: 0.9867 - loss: 0.0425\n",
            "\u001b[1m313/313\u001b[0m \u001b[32m━━━━━━━━━━━━━━━━━━━━\u001b[0m\u001b[37m\u001b[0m \u001b[1m1s\u001b[0m 3ms/step - accuracy: 0.9772 - loss: 0.0780\n"
          ]
        },
        {
          "output_type": "execute_result",
          "data": {
            "text/plain": [
              "[0.06372509151697159, 0.9817000031471252]"
            ]
          },
          "metadata": {},
          "execution_count": 16
        }
      ]
    },
    {
      "cell_type": "code",
      "source": [
        "#패션 아이템 분류\n",
        "import numpy as np\n",
        "import tensorflow as tf\n",
        "import matplotlib.pyplot as plt\n",
        "from tensorflow.keras import datasets, layers, models\n",
        "\n",
        "fashion_mnist = datasets.fashion_mnist\n",
        "(train_data, train_labels), (test_data, test_labels) = fashion_mnist.load_data()\n",
        "\n",
        "plt.imshow(train_data[0])\n",
        "\n",
        "train_data, test_data = train_data / 255.0, test_data / 255.0\n",
        "model = models.Sequential([\n",
        "    layers.Flatten(input_shape=(28,28)),\n",
        "    layers.Dense(256, activation='relu'),\n",
        "    layers.Dropout(0.2),\n",
        "    layers.Dense(128, activation='relu'),\n",
        "    layers.Dropout(0.2),\n",
        "    layers.Dense(10, activation='softmax')\n",
        "])\n",
        "\n",
        "model.compile(optimizer='adam', loss='sparse_categorical_crossentropy', metrics=['accuracy'])\n",
        "model.fit(train_data, train_labels, epochs=5)\n",
        "loss, acc = model.evaluate(test_data, test_labels)\n",
        "print(\"accuracy:\",acc)"
      ],
      "metadata": {
        "colab": {
          "base_uri": "https://localhost:8080/",
          "height": 650
        },
        "id": "hCVL9YsVmm9o",
        "outputId": "db0d8b35-35d5-4650-9a6a-dac24a32f434"
      },
      "execution_count": null,
      "outputs": [
        {
          "output_type": "stream",
          "name": "stdout",
          "text": [
            "Epoch 1/5\n",
            "\u001b[1m1875/1875\u001b[0m \u001b[32m━━━━━━━━━━━━━━━━━━━━\u001b[0m\u001b[37m\u001b[0m \u001b[1m15s\u001b[0m 7ms/step - accuracy: 0.7558 - loss: 0.6764\n",
            "Epoch 2/5\n",
            "\u001b[1m1875/1875\u001b[0m \u001b[32m━━━━━━━━━━━━━━━━━━━━\u001b[0m\u001b[37m\u001b[0m \u001b[1m13s\u001b[0m 7ms/step - accuracy: 0.8536 - loss: 0.4081\n",
            "Epoch 3/5\n",
            "\u001b[1m1875/1875\u001b[0m \u001b[32m━━━━━━━━━━━━━━━━━━━━\u001b[0m\u001b[37m\u001b[0m \u001b[1m20s\u001b[0m 7ms/step - accuracy: 0.8633 - loss: 0.3793\n",
            "Epoch 4/5\n",
            "\u001b[1m1875/1875\u001b[0m \u001b[32m━━━━━━━━━━━━━━━━━━━━\u001b[0m\u001b[37m\u001b[0m \u001b[1m13s\u001b[0m 7ms/step - accuracy: 0.8715 - loss: 0.3501\n",
            "Epoch 5/5\n",
            "\u001b[1m1875/1875\u001b[0m \u001b[32m━━━━━━━━━━━━━━━━━━━━\u001b[0m\u001b[37m\u001b[0m \u001b[1m21s\u001b[0m 7ms/step - accuracy: 0.8774 - loss: 0.3320\n",
            "\u001b[1m313/313\u001b[0m \u001b[32m━━━━━━━━━━━━━━━━━━━━\u001b[0m\u001b[37m\u001b[0m \u001b[1m1s\u001b[0m 3ms/step - accuracy: 0.8728 - loss: 0.3450\n",
            "accuracy: 0.8741999864578247\n"
          ]
        },
        {
          "output_type": "display_data",
          "data": {
            "text/plain": [
              "<Figure size 640x480 with 1 Axes>"
            ],
            "image/png": "[encoded data removed]"
          },
          "metadata": {}
        }
      ]
    },
    {
      "cell_type": "markdown",
      "source": [
        "#타이타닉"
      ],
      "metadata": {
        "id": "rCJm9FZatSvu"
      }
    },
    {
      "cell_type": "code",
      "source": [
        "#타이타닉 생존자 예측\n",
        "import numpy as np\n",
        "import pandas as pd\n",
        "import tensorflow as tf\n",
        "\n",
        "# 데이터 세트를 읽어들인다.\n",
        "train = pd.read_csv(\"/content/drive/MyDrive/Colab Notebooks/학업/2024-2 파이썬자료분석/titanic_train.csv\", sep=',')\n",
        "test = pd.read_csv(\"/content/drive/MyDrive/Colab Notebooks/학업/2024-2 파이썬자료분석/titanic_test.csv\", sep=',')"
      ],
      "metadata": {
        "id": "rMoZrxlqqwah"
      },
      "execution_count": null,
      "outputs": []
    },
    {
      "cell_type": "code",
      "source": [
        "train"
      ],
      "metadata": {
        "colab": {
          "base_uri": "https://localhost:8080/",
          "height": 424
        },
        "id": "Ql6zzfH8taKM",
        "outputId": "b366e6c3-469d-4e30-f31a-ef290405997e"
      },
      "execution_count": null,
      "outputs": [
        {
          "output_type": "execute_result",
          "data": {
            "text/plain": [
              "     PassengerId  Survived  Pclass  \\\n",
              "0              1         0       3   \n",
              "1              2         1       1   \n",
              "2              3         1       3   \n",
              "3              4         1       1   \n",
              "4              5         0       3   \n",
              "..           ...       ...     ...   \n",
              "886          887         0       2   \n",
              "887          888         1       1   \n",
              "888          889         0       3   \n",
              "889          890         1       1   \n",
              "890          891         0       3   \n",
              "\n",
              "                                                  Name     Sex   Age  SibSp  \\\n",
              "0                              Braund, Mr. Owen Harris    male  22.0      1   \n",
              "1    Cumings, Mrs. John Bradley (Florence Briggs Th...  female  38.0      1   \n",
              "2                               Heikkinen, Miss. Laina  female  26.0      0   \n",
              "3         Futrelle, Mrs. Jacques Heath (Lily May Peel)  female  35.0      1   \n",
              "4                             Allen, Mr. William Henry    male  35.0      0   \n",
              "..                                                 ...     ...   ...    ...   \n",
              "886                              Montvila, Rev. Juozas    male  27.0      0   \n",
              "887                       Graham, Miss. Margaret Edith  female  19.0      0   \n",
              "888           Johnston, Miss. Catherine Helen \"Carrie\"  female   NaN      1   \n",
              "889                              Behr, Mr. Karl Howell    male  26.0      0   \n",
              "890                                Dooley, Mr. Patrick    male  32.0      0   \n",
              "\n",
              "     Parch            Ticket     Fare Cabin Embarked  \n",
              "0        0         A/5 21171   7.2500   NaN        S  \n",
              "1        0          PC 17599  71.2833   C85        C  \n",
              "2        0  STON/O2. 3101282   7.9250   NaN        S  \n",
              "3        0            113803  53.1000  C123        S  \n",
              "4        0            373450   8.0500   NaN        S  \n",
              "..     ...               ...      ...   ...      ...  \n",
              "886      0            211536  13.0000   NaN        S  \n",
              "887      0            112053  30.0000   B42        S  \n",
              "888      2        W./C. 6607  23.4500   NaN        S  \n",
              "889      0            111369  30.0000  C148        C  \n",
              "890      0            370376   7.7500   NaN        Q  \n",
              "\n",
              "[891 rows x 12 columns]"
            ],
            "text/html": [
              "\n",
              "  <div id=\"df-36c68bb5-0650-4b61-96ab-240a079bfee5\" class=\"colab-df-container\">\n",
              "    <div>\n",
              "<style scoped>\n",
              "    .dataframe tbody tr th:only-of-type {\n",
              "        vertical-align: middle;\n",
              "    }\n",
              "\n",
              "    .dataframe tbody tr th {\n",
              "        vertical-align: top;\n",
              "    }\n",
              "\n",
              "    .dataframe thead th {\n",
              "        text-align: right;\n",
              "    }\n",
              "</style>\n",
              "<table border=\"1\" class=\"dataframe\">\n",
              "  <thead>\n",
              "    <tr style=\"text-align: right;\">\n",
              "      <th></th>\n",
              "      <th>PassengerId</th>\n",
              "      <th>Survived</th>\n",
              "      <th>Pclass</th>\n",
              "      <th>Name</th>\n",
              "      <th>Sex</th>\n",
              "      <th>Age</th>\n",
              "      <th>SibSp</th>\n",
              "      <th>Parch</th>\n",
              "      <th>Ticket</th>\n",
              "      <th>Fare</th>\n",
              "      <th>Cabin</th>\n",
              "      <th>Embarked</th>\n",
              "    </tr>\n",
              "  </thead>\n",
              "  <tbody>\n",
              "    <tr>\n",
              "      <th>0</th>\n",
              "      <td>1</td>\n",
              "      <td>0</td>\n",
              "      <td>3</td>\n",
              "      <td>Braund, Mr. Owen Harris</td>\n",
              "      <td>male</td>\n",
              "      <td>22.0</td>\n",
              "      <td>1</td>\n",
              "      <td>0</td>\n",
              "      <td>A/5 21171</td>\n",
              "      <td>7.2500</td>\n",
              "      <td>NaN</td>\n",
              "      <td>S</td>\n",
              "    </tr>\n",
              "    <tr>\n",
              "      <th>1</th>\n",
              "      <td>2</td>\n",
              "      <td>1</td>\n",
              "      <td>1</td>\n",
              "      <td>Cumings, Mrs. John Bradley (Florence Briggs Th...</td>\n",
              "      <td>female</td>\n",
              "      <td>38.0</td>\n",
              "      <td>1</td>\n",
              "      <td>0</td>\n",
              "      <td>PC 17599</td>\n",
              "      <td>71.2833</td>\n",
              "      <td>C85</td>\n",
              "      <td>C</td>\n",
              "    </tr>\n",
              "    <tr>\n",
              "      <th>2</th>\n",
              "      <td>3</td>\n",
              "      <td>1</td>\n",
              "      <td>3</td>\n",
              "      <td>Heikkinen, Miss. Laina</td>\n",
              "      <td>female</td>\n",
              "      <td>26.0</td>\n",
              "      <td>0</td>\n",
              "      <td>0</td>\n",
              "      <td>STON/O2. 3101282</td>\n",
              "      <td>7.9250</td>\n",
              "      <td>NaN</td>\n",
              "      <td>S</td>\n",
              "    </tr>\n",
              "    <tr>\n",
              "      <th>3</th>\n",
              "      <td>4</td>\n",
              "      <td>1</td>\n",
              "      <td>1</td>\n",
              "      <td>Futrelle, Mrs. Jacques Heath (Lily May Peel)</td>\n",
              "      <td>female</td>\n",
              "      <td>35.0</td>\n",
              "      <td>1</td>\n",
              "      <td>0</td>\n",
              "      <td>113803</td>\n",
              "      <td>53.1000</td>\n",
              "      <td>C123</td>\n",
              "      <td>S</td>\n",
              "    </tr>\n",
              "    <tr>\n",
              "      <th>4</th>\n",
              "      <td>5</td>\n",
              "      <td>0</td>\n",
              "      <td>3</td>\n",
              "      <td>Allen, Mr. William Henry</td>\n",
              "      <td>male</td>\n",
              "      <td>35.0</td>\n",
              "      <td>0</td>\n",
              "      <td>0</td>\n",
              "      <td>373450</td>\n",
              "      <td>8.0500</td>\n",
              "      <td>NaN</td>\n",
              "      <td>S</td>\n",
              "    </tr>\n",
              "    <tr>\n",
              "      <th>...</th>\n",
              "      <td>...</td>\n",
              "      <td>...</td>\n",
              "      <td>...</td>\n",
              "      <td>...</td>\n",
              "      <td>...</td>\n",
              "      <td>...</td>\n",
              "      <td>...</td>\n",
              "      <td>...</td>\n",
              "      <td>...</td>\n",
              "      <td>...</td>\n",
              "      <td>...</td>\n",
              "      <td>...</td>\n",
              "    </tr>\n",
              "    <tr>\n",
              "      <th>886</th>\n",
              "      <td>887</td>\n",
              "      <td>0</td>\n",
              "      <td>2</td>\n",
              "      <td>Montvila, Rev. Juozas</td>\n",
              "      <td>male</td>\n",
              "      <td>27.0</td>\n",
              "      <td>0</td>\n",
              "      <td>0</td>\n",
              "      <td>211536</td>\n",
              "      <td>13.0000</td>\n",
              "      <td>NaN</td>\n",
              "      <td>S</td>\n",
              "    </tr>\n",
              "    <tr>\n",
              "      <th>887</th>\n",
              "      <td>888</td>\n",
              "      <td>1</td>\n",
              "      <td>1</td>\n",
              "      <td>Graham, Miss. Margaret Edith</td>\n",
              "      <td>female</td>\n",
              "      <td>19.0</td>\n",
              "      <td>0</td>\n",
              "      <td>0</td>\n",
              "      <td>112053</td>\n",
              "      <td>30.0000</td>\n",
              "      <td>B42</td>\n",
              "      <td>S</td>\n",
              "    </tr>\n",
              "    <tr>\n",
              "      <th>888</th>\n",
              "      <td>889</td>\n",
              "      <td>0</td>\n",
              "      <td>3</td>\n",
              "      <td>Johnston, Miss. Catherine Helen \"Carrie\"</td>\n",
              "      <td>female</td>\n",
              "      <td>NaN</td>\n",
              "      <td>1</td>\n",
              "      <td>2</td>\n",
              "      <td>W./C. 6607</td>\n",
              "      <td>23.4500</td>\n",
              "      <td>NaN</td>\n",
              "      <td>S</td>\n",
              "    </tr>\n",
              "    <tr>\n",
              "      <th>889</th>\n",
              "      <td>890</td>\n",
              "      <td>1</td>\n",
              "      <td>1</td>\n",
              "      <td>Behr, Mr. Karl Howell</td>\n",
              "      <td>male</td>\n",
              "      <td>26.0</td>\n",
              "      <td>0</td>\n",
              "      <td>0</td>\n",
              "      <td>111369</td>\n",
              "      <td>30.0000</td>\n",
              "      <td>C148</td>\n",
              "      <td>C</td>\n",
              "    </tr>\n",
              "    <tr>\n",
              "      <th>890</th>\n",
              "      <td>891</td>\n",
              "      <td>0</td>\n",
              "      <td>3</td>\n",
              "      <td>Dooley, Mr. Patrick</td>\n",
              "      <td>male</td>\n",
              "      <td>32.0</td>\n",
              "      <td>0</td>\n",
              "      <td>0</td>\n",
              "      <td>370376</td>\n",
              "      <td>7.7500</td>\n",
              "      <td>NaN</td>\n",
              "      <td>Q</td>\n",
              "    </tr>\n",
              "  </tbody>\n",
              "</table>\n",
              "<p>891 rows × 12 columns</p>\n",
              "</div>\n",
              "    <div class=\"colab-df-buttons\">\n",
              "\n",
              "  <div class=\"colab-df-container\">\n",
              "    <button class=\"colab-df-convert\" onclick=\"convertToInteractive('df-36c68bb5-0650-4b61-96ab-240a079bfee5')\"\n",
              "            title=\"Convert this dataframe to an interactive table.\"\n",
              "            style=\"display:none;\">\n",
              "\n",
              "  <svg xmlns=\"http://www.w3.org/2000/svg\" height=\"24px\" viewBox=\"0 -960 960 960\">\n",
              "    <path d=\"M120-120v-720h720v720H120Zm60-500h600v-160H180v160Zm220 220h160v-160H400v160Zm0 220h160v-160H400v160ZM180-400h160v-160H180v160Zm440 0h160v-160H620v160ZM180-180h160v-160H180v160Zm440 0h160v-160H620v160Z\"/>\n",
              "  </svg>\n",
              "    </button>\n",
              "\n",
              "  <style>\n",
              "    .colab-df-container {\n",
              "      display:flex;\n",
              "      gap: 12px;\n",
              "    }\n",
              "\n",
              "    .colab-df-convert {\n",
              "      background-color: #E8F0FE;\n",
              "      border: none;\n",
              "      border-radius: 50%;\n",
              "      cursor: pointer;\n",
              "      display: none;\n",
              "      fill: #1967D2;\n",
              "      height: 32px;\n",
              "      padding: 0 0 0 0;\n",
              "      width: 32px;\n",
              "    }\n",
              "\n",
              "    .colab-df-convert:hover {\n",
              "      background-color: #E2EBFA;\n",
              "      box-shadow: 0px 1px 2px rgba(60, 64, 67, 0.3), 0px 1px 3px 1px rgba(60, 64, 67, 0.15);\n",
              "      fill: #174EA6;\n",
              "    }\n",
              "\n",
              "    .colab-df-buttons div {\n",
              "      margin-bottom: 4px;\n",
              "    }\n",
              "\n",
              "    [theme=dark] .colab-df-convert {\n",
              "      background-color: #3B4455;\n",
              "      fill: #D2E3FC;\n",
              "    }\n",
              "\n",
              "    [theme=dark] .colab-df-convert:hover {\n",
              "      background-color: #434B5C;\n",
              "      box-shadow: 0px 1px 3px 1px rgba(0, 0, 0, 0.15);\n",
              "      filter: drop-shadow(0px 1px 2px rgba(0, 0, 0, 0.3));\n",
              "      fill: #FFFFFF;\n",
              "    }\n",
              "  </style>\n",
              "\n",
              "    <script>\n",
              "      const buttonEl =\n",
              "        document.querySelector('#df-36c68bb5-0650-4b61-96ab-240a079bfee5 button.colab-df-convert');\n",
              "      buttonEl.style.display =\n",
              "        google.colab.kernel.accessAllowed ? 'block' : 'none';\n",
              "\n",
              "      async function convertToInteractive(key) {\n",
              "        const element = document.querySelector('#df-36c68bb5-0650-4b61-96ab-240a079bfee5');\n",
              "        const dataTable =\n",
              "          await google.colab.kernel.invokeFunction('convertToInteractive',\n",
              "                                                    [key], {});\n",
              "        if (!dataTable) return;\n",
              "\n",
              "        const docLinkHtml = 'Like what you see? Visit the ' +\n",
              "          '<a target=\"_blank\" href=https://colab.research.google.com/notebooks/data_table.ipynb>data table notebook</a>'\n",
              "          + ' to learn more about interactive tables.';\n",
              "        element.innerHTML = '';\n",
              "        dataTable['output_type'] = 'display_data';\n",
              "        await google.colab.output.renderOutput(dataTable, element);\n",
              "        const docLink = document.createElement('div');\n",
              "        docLink.innerHTML = docLinkHtml;\n",
              "        element.appendChild(docLink);\n",
              "      }\n",
              "    </script>\n",
              "  </div>\n",
              "\n",
              "\n",
              "<div id=\"df-aa46d288-bd0b-4521-a662-1e814649105e\">\n",
              "  <button class=\"colab-df-quickchart\" onclick=\"quickchart('df-aa46d288-bd0b-4521-a662-1e814649105e')\"\n",
              "            title=\"Suggest charts\"\n",
              "            style=\"display:none;\">\n",
              "\n",
              "<svg xmlns=\"http://www.w3.org/2000/svg\" height=\"24px\"viewBox=\"0 0 24 24\"\n",
              "     width=\"24px\">\n",
              "    <g>\n",
              "        <path d=\"M19 3H5c-1.1 0-2 .9-2 2v14c0 1.1.9 2 2 2h14c1.1 0 2-.9 2-2V5c0-1.1-.9-2-2-2zM9 17H7v-7h2v7zm4 0h-2V7h2v10zm4 0h-2v-4h2v4z\"/>\n",
              "    </g>\n",
              "</svg>\n",
              "  </button>\n",
              "\n",
              "<style>\n",
              "  .colab-df-quickchart {\n",
              "      --bg-color: #E8F0FE;\n",
              "      --fill-color: #1967D2;\n",
              "      --hover-bg-color: #E2EBFA;\n",
              "      --hover-fill-color: #174EA6;\n",
              "      --disabled-fill-color: #AAA;\n",
              "      --disabled-bg-color: #DDD;\n",
              "  }\n",
              "\n",
              "  [theme=dark] .colab-df-quickchart {\n",
              "      --bg-color: #3B4455;\n",
              "      --fill-color: #D2E3FC;\n",
              "      --hover-bg-color: #434B5C;\n",
              "      --hover-fill-color: #FFFFFF;\n",
              "      --disabled-bg-color: #3B4455;\n",
              "      --disabled-fill-color: #666;\n",
              "  }\n",
              "\n",
              "  .colab-df-quickchart {\n",
              "    background-color: var(--bg-color);\n",
              "    border: none;\n",
              "    border-radius: 50%;\n",
              "    cursor: pointer;\n",
              "    display: none;\n",
              "    fill: var(--fill-color);\n",
              "    height: 32px;\n",
              "    padding: 0;\n",
              "    width: 32px;\n",
              "  }\n",
              "\n",
              "  .colab-df-quickchart:hover {\n",
              "    background-color: var(--hover-bg-color);\n",
              "    box-shadow: 0 1px 2px rgba(60, 64, 67, 0.3), 0 1px 3px 1px rgba(60, 64, 67, 0.15);\n",
              "    fill: var(--button-hover-fill-color);\n",
              "  }\n",
              "\n",
              "  .colab-df-quickchart-complete:disabled,\n",
              "  .colab-df-quickchart-complete:disabled:hover {\n",
              "    background-color: var(--disabled-bg-color);\n",
              "    fill: var(--disabled-fill-color);\n",
              "    box-shadow: none;\n",
              "  }\n",
              "\n",
              "  .colab-df-spinner {\n",
              "    border: 2px solid var(--fill-color);\n",
              "    border-color: transparent;\n",
              "    border-bottom-color: var(--fill-color);\n",
              "    animation:\n",
              "      spin 1s steps(1) infinite;\n",
              "  }\n",
              "\n",
              "  @keyframes spin {\n",
              "    0% {\n",
              "      border-color: transparent;\n",
              "      border-bottom-color: var(--fill-color);\n",
              "      border-left-color: var(--fill-color);\n",
              "    }\n",
              "    20% {\n",
              "      border-color: transparent;\n",
              "      border-left-color: var(--fill-color);\n",
              "      border-top-color: var(--fill-color);\n",
              "    }\n",
              "    30% {\n",
              "      border-color: transparent;\n",
              "      border-left-color: var(--fill-color);\n",
              "      border-top-color: var(--fill-color);\n",
              "      border-right-color: var(--fill-color);\n",
              "    }\n",
              "    40% {\n",
              "      border-color: transparent;\n",
              "      border-right-color: var(--fill-color);\n",
              "      border-top-color: var(--fill-color);\n",
              "    }\n",
              "    60% {\n",
              "      border-color: transparent;\n",
              "      border-right-color: var(--fill-color);\n",
              "    }\n",
              "    80% {\n",
              "      border-color: transparent;\n",
              "      border-right-color: var(--fill-color);\n",
              "      border-bottom-color: var(--fill-color);\n",
              "    }\n",
              "    90% {\n",
              "      border-color: transparent;\n",
              "      border-bottom-color: var(--fill-color);\n",
              "    }\n",
              "  }\n",
              "</style>\n",
              "\n",
              "  <script>\n",
              "    async function quickchart(key) {\n",
              "      const quickchartButtonEl =\n",
              "        document.querySelector('#' + key + ' button');\n",
              "      quickchartButtonEl.disabled = true;  // To prevent multiple clicks.\n",
              "      quickchartButtonEl.classList.add('colab-df-spinner');\n",
              "      try {\n",
              "        const charts = await google.colab.kernel.invokeFunction(\n",
              "            'suggestCharts', [key], {});\n",
              "      } catch (error) {\n",
              "        console.error('Error during call to suggestCharts:', error);\n",
              "      }\n",
              "      quickchartButtonEl.classList.remove('colab-df-spinner');\n",
              "      quickchartButtonEl.classList.add('colab-df-quickchart-complete');\n",
              "    }\n",
              "    (() => {\n",
              "      let quickchartButtonEl =\n",
              "        document.querySelector('#df-aa46d288-bd0b-4521-a662-1e814649105e button');\n",
              "      quickchartButtonEl.style.display =\n",
              "        google.colab.kernel.accessAllowed ? 'block' : 'none';\n",
              "    })();\n",
              "  </script>\n",
              "</div>\n",
              "\n",
              "  <div id=\"id_4eab485a-b85f-410e-a9cb-7ece166c13b5\">\n",
              "    <style>\n",
              "      .colab-df-generate {\n",
              "        background-color: #E8F0FE;\n",
              "        border: none;\n",
              "        border-radius: 50%;\n",
              "        cursor: pointer;\n",
              "        display: none;\n",
              "        fill: #1967D2;\n",
              "        height: 32px;\n",
              "        padding: 0 0 0 0;\n",
              "        width: 32px;\n",
              "      }\n",
              "\n",
              "      .colab-df-generate:hover {\n",
              "        background-color: #E2EBFA;\n",
              "        box-shadow: 0px 1px 2px rgba(60, 64, 67, 0.3), 0px 1px 3px 1px rgba(60, 64, 67, 0.15);\n",
              "        fill: #174EA6;\n",
              "      }\n",
              "\n",
              "      [theme=dark] .colab-df-generate {\n",
              "        background-color: #3B4455;\n",
              "        fill: #D2E3FC;\n",
              "      }\n",
              "\n",
              "      [theme=dark] .colab-df-generate:hover {\n",
              "        background-color: #434B5C;\n",
              "        box-shadow: 0px 1px 3px 1px rgba(0, 0, 0, 0.15);\n",
              "        filter: drop-shadow(0px 1px 2px rgba(0, 0, 0, 0.3));\n",
              "        fill: #FFFFFF;\n",
              "      }\n",
              "    </style>\n",
              "    <button class=\"colab-df-generate\" onclick=\"generateWithVariable('train')\"\n",
              "            title=\"Generate code using this dataframe.\"\n",
              "            style=\"display:none;\">\n",
              "\n",
              "  <svg xmlns=\"http://www.w3.org/2000/svg\" height=\"24px\"viewBox=\"0 0 24 24\"\n",
              "       width=\"24px\">\n",
              "    <path d=\"M7,19H8.4L18.45,9,17,7.55,7,17.6ZM5,21V16.75L18.45,3.32a2,2,0,0,1,2.83,0l1.4,1.43a1.91,1.91,0,0,1,.58,1.4,1.91,1.91,0,0,1-.58,1.4L9.25,21ZM18.45,9,17,7.55Zm-12,3A5.31,5.31,0,0,0,4.9,8.1,5.31,5.31,0,0,0,1,6.5,5.31,5.31,0,0,0,4.9,4.9,5.31,5.31,0,0,0,6.5,1,5.31,5.31,0,0,0,8.1,4.9,5.31,5.31,0,0,0,12,6.5,5.46,5.46,0,0,0,6.5,12Z\"/>\n",
              "  </svg>\n",
              "    </button>\n",
              "    <script>\n",
              "      (() => {\n",
              "      const buttonEl =\n",
              "        document.querySelector('#id_4eab485a-b85f-410e-a9cb-7ece166c13b5 button.colab-df-generate');\n",
              "      buttonEl.style.display =\n",
              "        google.colab.kernel.accessAllowed ? 'block' : 'none';\n",
              "\n",
              "      buttonEl.onclick = () => {\n",
              "        google.colab.notebook.generateWithVariable('train');\n",
              "      }\n",
              "      })();\n",
              "    </script>\n",
              "  </div>\n",
              "\n",
              "    </div>\n",
              "  </div>\n"
            ],
            "application/vnd.google.colaboratory.intrinsic+json": {
              "type": "dataframe",
              "variable_name": "train",
              "summary": "{\n  \"name\": \"train\",\n  \"rows\": 891,\n  \"fields\": [\n    {\n      \"column\": \"PassengerId\",\n      \"properties\": {\n        \"dtype\": \"number\",\n        \"std\": 257,\n        \"min\": 1,\n        \"max\": 891,\n        \"num_unique_values\": 891,\n        \"samples\": [\n          710,\n          440,\n          841\n        ],\n        \"semantic_type\": \"\",\n        \"description\": \"\"\n      }\n    },\n    {\n      \"column\": \"Survived\",\n      \"properties\": {\n        \"dtype\": \"number\",\n        \"std\": 0,\n        \"min\": 0,\n        \"max\": 1,\n        \"num_unique_values\": 2,\n        \"samples\": [\n          1,\n          0\n        ],\n        \"semantic_type\": \"\",\n        \"description\": \"\"\n      }\n    },\n    {\n      \"column\": \"Pclass\",\n      \"properties\": {\n        \"dtype\": \"number\",\n        \"std\": 0,\n        \"min\": 1,\n        \"max\": 3,\n        \"num_unique_values\": 3,\n        \"samples\": [\n          3,\n          1\n        ],\n        \"semantic_type\": \"\",\n        \"description\": \"\"\n      }\n    },\n    {\n      \"column\": \"Name\",\n      \"properties\": {\n        \"dtype\": \"string\",\n        \"num_unique_values\": 891,\n        \"samples\": [\n          \"Moubarek, Master. Halim Gonios (\\\"William George\\\")\",\n          \"Kvillner, Mr. Johan Henrik Johannesson\"\n        ],\n        \"semantic_type\": \"\",\n        \"description\": \"\"\n      }\n    },\n    {\n      \"column\": \"Sex\",\n      \"properties\": {\n        \"dtype\": \"category\",\n        \"num_unique_values\": 2,\n        \"samples\": [\n          \"female\",\n          \"male\"\n        ],\n        \"semantic_type\": \"\",\n        \"description\": \"\"\n      }\n    },\n    {\n      \"column\": \"Age\",\n      \"properties\": {\n        \"dtype\": \"number\",\n        \"std\": 14.526497332334044,\n        \"min\": 0.42,\n        \"max\": 80.0,\n        \"num_unique_values\": 88,\n        \"samples\": [\n          0.75,\n          22.0\n        ],\n        \"semantic_type\": \"\",\n        \"description\": \"\"\n      }\n    },\n    {\n      \"column\": \"SibSp\",\n      \"properties\": {\n        \"dtype\": \"number\",\n        \"std\": 1,\n        \"min\": 0,\n        \"max\": 8,\n        \"num_unique_values\": 7,\n        \"samples\": [\n          1,\n          0\n        ],\n        \"semantic_type\": \"\",\n        \"description\": \"\"\n      }\n    },\n    {\n      \"column\": \"Parch\",\n      \"properties\": {\n        \"dtype\": \"number\",\n        \"std\": 0,\n        \"min\": 0,\n        \"max\": 6,\n        \"num_unique_values\": 7,\n        \"samples\": [\n          0,\n          1\n        ],\n        \"semantic_type\": \"\",\n        \"description\": \"\"\n      }\n    },\n    {\n      \"column\": \"Ticket\",\n      \"properties\": {\n        \"dtype\": \"string\",\n        \"num_unique_values\": 681,\n        \"samples\": [\n          \"11774\",\n          \"248740\"\n        ],\n        \"semantic_type\": \"\",\n        \"description\": \"\"\n      }\n    },\n    {\n      \"column\": \"Fare\",\n      \"properties\": {\n        \"dtype\": \"number\",\n        \"std\": 49.693428597180905,\n        \"min\": 0.0,\n        \"max\": 512.3292,\n        \"num_unique_values\": 248,\n        \"samples\": [\n          11.2417,\n          51.8625\n        ],\n        \"semantic_type\": \"\",\n        \"description\": \"\"\n      }\n    },\n    {\n      \"column\": \"Cabin\",\n      \"properties\": {\n        \"dtype\": \"category\",\n        \"num_unique_values\": 147,\n        \"samples\": [\n          \"D45\",\n          \"B49\"\n        ],\n        \"semantic_type\": \"\",\n        \"description\": \"\"\n      }\n    },\n    {\n      \"column\": \"Embarked\",\n      \"properties\": {\n        \"dtype\": \"category\",\n        \"num_unique_values\": 3,\n        \"samples\": [\n          \"S\",\n          \"C\"\n        ],\n        \"semantic_type\": \"\",\n        \"description\": \"\"\n      }\n    }\n  ]\n}"
            }
          },
          "metadata": {},
          "execution_count": 26
        }
      ]
    },
    {
      "cell_type": "code",
      "source": [
        "# 필요없는 컬럼을 삭제한다.\n",
        "train.drop(['SibSp', 'Parch', 'Ticket', 'Embarked', 'Name',\\\n",
        "        'Cabin', 'PassengerId', 'Fare', 'Age'], inplace=True, axis=1)\n",
        "\n",
        "# 결손치가 있는 데이터 행은 삭제한다.\n",
        "train.dropna(inplace=True)\n",
        "\n",
        "# 기호를 수치로 변환한다.\n",
        "for ix in train.index:\n",
        "    if train.loc[ix, 'Sex']==\"male\":\n",
        "       train.loc[ix, 'Sex']=1\n",
        "    else:\n",
        "       train.loc[ix, 'Sex']=0"
      ],
      "metadata": {
        "id": "upHSx78rtbo1"
      },
      "execution_count": null,
      "outputs": []
    },
    {
      "cell_type": "code",
      "source": [
        "df = train.groupby('Sex').mean()[\"Survived\"]\n",
        "df.plot(kind='bar')\n",
        "plt.show()"
      ],
      "metadata": {
        "id": "KFpErWoQtufl"
      },
      "execution_count": null,
      "outputs": []
    },
    {
      "cell_type": "code",
      "source": [
        "# 2차원 배열을 1차원 배열로 평탄화한다.\n",
        "target = np.ravel(train.Survived)\n",
        "\n",
        "# 생존여부를 학습 데이터에서 삭제한다.\n",
        "train.drop(['Survived'], inplace=True, axis=1)\n",
        "train = train.astype(float)     # 최근 소스에서는 float형태로 형변환하여야\n",
        "\n",
        "# 케라스 모델을 생성한다.\n",
        "model = tf.keras.models.Sequential()\n",
        "model.add(tf.keras.layers.Dense(16, activation='relu', input_shape=(2,)))\n",
        "model.add(tf.keras.layers.Dense(8, activation='relu'))\n",
        "model.add(tf.keras.layers.Dense(1, activation='sigmoid'))\n",
        "\n",
        "# 케라스 모델을 컴파일한다.\n",
        "model.compile(loss='binary_crossentropy',\n",
        "              optimizer='adam',\n",
        "              metrics=['accuracy'])\n",
        "# 케라스 모델을 학습시킨다.\n",
        "model.fit(train, target, epochs=30, batch_size=1, verbose=1)"
      ],
      "metadata": {
        "id": "wUrdq6VTtvv9"
      },
      "execution_count": null,
      "outputs": []
    }
  ]
}